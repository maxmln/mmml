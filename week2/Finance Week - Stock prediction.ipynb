{
 "cells": [
  {
   "cell_type": "code",
   "execution_count": 1,
   "metadata": {},
   "outputs": [],
   "source": [
    "import numpy\n",
    "import pandas as pd\n",
    "import matplotlib.pyplot as plt\n",
    "import seaborn as sns\n",
    "sns.set()"
   ]
  },
  {
   "cell_type": "code",
   "execution_count": 3,
   "metadata": {
    "scrolled": true
   },
   "outputs": [
    {
     "name": "stdout",
     "output_type": "stream",
     "text": [
      "Collecting yfinance\n",
      "  Downloading https://files.pythonhosted.org/packages/53/0e/40387099824c98be22cd7e33a620e9d38b61998b031f0b33f0b9959717d2/yfinance-0.1.45.tar.gz\n",
      "Requirement already satisfied, skipping upgrade: pandas>=0.24 in /usr/local/lib/python3.7/site-packages (from yfinance) (0.24.2)\n",
      "Requirement already satisfied, skipping upgrade: numpy>=1.15 in /usr/local/lib/python3.7/site-packages (from yfinance) (1.16.1)\n",
      "Requirement already satisfied, skipping upgrade: requests>=2.20 in /usr/local/lib/python3.7/site-packages (from yfinance) (2.21.0)\n",
      "Collecting multitasking>=0.0.7 (from yfinance)\n",
      "  Downloading https://files.pythonhosted.org/packages/69/e7/e9f1661c28f7b87abfa08cb0e8f51dad2240a9f4f741f02ea839835e6d18/multitasking-0.0.9.tar.gz\n",
      "Requirement already satisfied, skipping upgrade: pytz>=2011k in /usr/local/lib/python3.7/site-packages (from pandas>=0.24->yfinance) (2018.9)\n",
      "Requirement already satisfied, skipping upgrade: python-dateutil>=2.5.0 in /usr/local/lib/python3.7/site-packages (from pandas>=0.24->yfinance) (2.7.5)\n",
      "Requirement already satisfied, skipping upgrade: idna<2.9,>=2.5 in /usr/local/lib/python3.7/site-packages (from requests>=2.20->yfinance) (2.8)\n",
      "Requirement already satisfied, skipping upgrade: certifi>=2017.4.17 in /usr/local/lib/python3.7/site-packages (from requests>=2.20->yfinance) (2018.11.29)\n",
      "Requirement already satisfied, skipping upgrade: chardet<3.1.0,>=3.0.2 in /usr/local/lib/python3.7/site-packages (from requests>=2.20->yfinance) (3.0.4)\n",
      "Requirement already satisfied, skipping upgrade: urllib3<1.25,>=1.21.1 in /usr/local/lib/python3.7/site-packages (from requests>=2.20->yfinance) (1.24.1)\n",
      "Requirement already satisfied, skipping upgrade: six>=1.5 in /usr/local/lib/python3.7/site-packages (from python-dateutil>=2.5.0->pandas>=0.24->yfinance) (1.12.0)\n",
      "Building wheels for collected packages: yfinance, multitasking\n",
      "  Building wheel for yfinance (setup.py) ... \u001b[?25ldone\n",
      "\u001b[?25h  Created wheel for yfinance: filename=yfinance-0.1.45-cp37-none-any.whl size=14651 sha256=216c3165fb6df97b0eb38a3a07cba1760f0261bed824532ec3389ea03b721a1a\n",
      "  Stored in directory: /private/var/folders/0m/nj42bh1n6g32mf_53x8qjx_80000gp/T/pip-ephem-wheel-cache-vz3j3u3b/wheels/0c/d1/df/aa9a7744a4ac353cc9a1f2c3aaea7c1f457fc49de4286f2d88\n",
      "  Building wheel for multitasking (setup.py) ... \u001b[?25ldone\n",
      "\u001b[?25h  Created wheel for multitasking: filename=multitasking-0.0.9-cp37-none-any.whl size=8367 sha256=db915425decde2a3b110f6bcbf248118b4cc35da5a991a58bbe1c2a44a529b56\n",
      "  Stored in directory: /private/var/folders/0m/nj42bh1n6g32mf_53x8qjx_80000gp/T/pip-ephem-wheel-cache-vz3j3u3b/wheels/37/fa/73/d492849e319038eb4d986f5152e4b19ffb1bc0639da84d2677\n",
      "Successfully built yfinance multitasking\n",
      "Installing collected packages: multitasking, yfinance\n",
      "Successfully installed multitasking-0.0.9 yfinance-0.1.45\n"
     ]
    }
   ],
   "source": [
    "!pip install yfinance --upgrade --no-cache-dir"
   ]
  },
  {
   "cell_type": "code",
   "execution_count": 9,
   "metadata": {},
   "outputs": [
    {
     "name": "stdout",
     "output_type": "stream",
     "text": [
      "[*********************100%***********************]  1 of 1 downloaded\n"
     ]
    },
    {
     "data": {
      "text/html": [
       "<div>\n",
       "<style scoped>\n",
       "    .dataframe tbody tr th:only-of-type {\n",
       "        vertical-align: middle;\n",
       "    }\n",
       "\n",
       "    .dataframe tbody tr th {\n",
       "        vertical-align: top;\n",
       "    }\n",
       "\n",
       "    .dataframe thead th {\n",
       "        text-align: right;\n",
       "    }\n",
       "</style>\n",
       "<table border=\"1\" class=\"dataframe\">\n",
       "  <thead>\n",
       "    <tr style=\"text-align: right;\">\n",
       "      <th></th>\n",
       "      <th>Date</th>\n",
       "      <th>Open</th>\n",
       "      <th>High</th>\n",
       "      <th>Low</th>\n",
       "      <th>Close</th>\n",
       "      <th>Adj Close</th>\n",
       "      <th>Volume</th>\n",
       "    </tr>\n",
       "  </thead>\n",
       "  <tbody>\n",
       "    <tr>\n",
       "      <th>0</th>\n",
       "      <td>2018-01-02</td>\n",
       "      <td>107.63</td>\n",
       "      <td>108.02</td>\n",
       "      <td>106.81</td>\n",
       "      <td>107.95</td>\n",
       "      <td>103.16</td>\n",
       "      <td>13578800</td>\n",
       "    </tr>\n",
       "    <tr>\n",
       "      <th>1</th>\n",
       "      <td>2018-01-03</td>\n",
       "      <td>107.86</td>\n",
       "      <td>108.49</td>\n",
       "      <td>107.48</td>\n",
       "      <td>108.06</td>\n",
       "      <td>103.26</td>\n",
       "      <td>11901000</td>\n",
       "    </tr>\n",
       "    <tr>\n",
       "      <th>2</th>\n",
       "      <td>2018-01-04</td>\n",
       "      <td>108.36</td>\n",
       "      <td>110.03</td>\n",
       "      <td>108.20</td>\n",
       "      <td>109.04</td>\n",
       "      <td>104.74</td>\n",
       "      <td>12953700</td>\n",
       "    </tr>\n",
       "    <tr>\n",
       "      <th>3</th>\n",
       "      <td>2018-01-05</td>\n",
       "      <td>109.26</td>\n",
       "      <td>109.55</td>\n",
       "      <td>107.78</td>\n",
       "      <td>108.34</td>\n",
       "      <td>104.07</td>\n",
       "      <td>14155000</td>\n",
       "    </tr>\n",
       "    <tr>\n",
       "      <th>4</th>\n",
       "      <td>2018-01-08</td>\n",
       "      <td>108.15</td>\n",
       "      <td>108.68</td>\n",
       "      <td>107.70</td>\n",
       "      <td>108.50</td>\n",
       "      <td>104.22</td>\n",
       "      <td>12466500</td>\n",
       "    </tr>\n",
       "  </tbody>\n",
       "</table>\n",
       "</div>"
      ],
      "text/plain": [
       "        Date    Open    High     Low   Close  Adj Close    Volume\n",
       "0 2018-01-02  107.63  108.02  106.81  107.95     103.16  13578800\n",
       "1 2018-01-03  107.86  108.49  107.48  108.06     103.26  11901000\n",
       "2 2018-01-04  108.36  110.03  108.20  109.04     104.74  12953700\n",
       "3 2018-01-05  109.26  109.55  107.78  108.34     104.07  14155000\n",
       "4 2018-01-08  108.15  108.68  107.70  108.50     104.22  12466500"
      ]
     },
     "execution_count": 9,
     "metadata": {},
     "output_type": "execute_result"
    }
   ],
   "source": [
    "from pandas_datareader import data as pdr\n",
    "import yfinance as yf\n",
    "\n",
    "yf.pdr_override()\n",
    "dataframe = pdr.get_data_yahoo('JPM', start=\"2018-01-01\").reset_index()\n",
    "dataframe.to_csv('JPM.csv', index=False)\n",
    "dataframe.head()"
   ]
  },
  {
   "cell_type": "code",
   "execution_count": null,
   "metadata": {},
   "outputs": [],
   "source": []
  }
 ],
 "metadata": {
  "kernelspec": {
   "display_name": "Python 3",
   "language": "python",
   "name": "python3"
  },
  "language_info": {
   "codemirror_mode": {
    "name": "ipython",
    "version": 3
   },
   "file_extension": ".py",
   "mimetype": "text/x-python",
   "name": "python",
   "nbconvert_exporter": "python",
   "pygments_lexer": "ipython3",
   "version": "3.7.2"
  }
 },
 "nbformat": 4,
 "nbformat_minor": 2
}
